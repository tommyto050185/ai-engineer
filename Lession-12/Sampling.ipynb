{
 "cells": [
  {
   "cell_type": "code",
   "execution_count": null,
   "id": "51dea2fd",
   "metadata": {},
   "outputs": [],
   "source": [
    "import numpy as np\n",
    "import pandas as pd\n",
    "\n",
    "np.random.seed(0)\n",
    "#display(np.random.randint(50,100,1000))\n",
    "\n",
    "data = pd.DataFrame({'Điểm thi':np.random.randint(50,100,1000)})\n",
    "#display(data)"
   ]
  },
  {
   "cell_type": "code",
   "execution_count": null,
   "id": "1bbc2106",
   "metadata": {},
   "outputs": [],
   "source": [
    "data['Giới tính'] = np.where(np.random.rand(1000) > 0.5, 'Nam', 'Nữ')\n",
    "#display(data)\n",
    "# Lấy mẫu phân tầng (25 sinh viên mỗi giới tính)\n",
    "sample_stratified = data.groupby('Giới tính', group_keys=False).apply(lambda x: x.sample(25),include_groups=False)\n",
    "display(sample_stratified)\n",
    "#print(\"Mẫu phân tầng với 25 sinh viên mỗi giới tính:\\n\", sample_stratified.head())"
   ]
  }
 ],
 "metadata": {
  "kernelspec": {
   "display_name": "venv",
   "language": "python",
   "name": "python3"
  },
  "language_info": {
   "codemirror_mode": {
    "name": "ipython",
    "version": 3
   },
   "file_extension": ".py",
   "mimetype": "text/x-python",
   "name": "python",
   "nbconvert_exporter": "python",
   "pygments_lexer": "ipython3",
   "version": "3.13.3"
  }
 },
 "nbformat": 4,
 "nbformat_minor": 5
}
